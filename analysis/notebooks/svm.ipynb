{
 "cells": [
  {
   "cell_type": "code",
   "execution_count": 15,
   "metadata": {
    "collapsed": true,
    "pycharm": {
     "is_executing": false
    }
   },
   "outputs": [
    {
     "name": "stderr",
     "text": [
      "/home/nick/dev/music-similarity/analysis/processing.py:52: RuntimeWarning: divide by zero encountered in log10\n",
      "  return np.nan_to_num(dct(np.log10(filterbanks), axis=0)[1:n_ceps + 1])\n"
     ],
     "output_type": "stream"
    }
   ],
   "source": [
    "import numpy as np\n",
    "from sklearn import svm\n",
    "\n",
    "from processing import convert_to_mfcc\n",
    "from classification import gmm_js, fit_gmm, init_gmm\n",
    "\n",
    "# create samples\n",
    "samples = list()\n",
    "samples.append(convert_to_mfcc('../data/songs/Akagami no Shirayuki-hime.wav', frames=3000))\n",
    "samples.append(convert_to_mfcc('../data/songs/Dragon Ball.wav', frames=3000))"
   ]
  },
  {
   "cell_type": "code",
   "execution_count": 16,
   "outputs": [
    {
     "data": {
      "text/plain": "array([[-8.88178420e-16,  5.88542306e-01],\n       [ 5.84099571e-01,  0.00000000e+00]])"
     },
     "metadata": {},
     "output_type": "execute_result",
     "execution_count": 16
    }
   ],
   "source": [
    "# create gram matrix\n",
    "gram_matrix = np.zeros((2, 2))\n",
    "\n",
    "# precompute gmm's\n",
    "gmm_samples = list(map(lambda x: init_gmm(fit_gmm(x)), samples))\n",
    "\n",
    "# precompute d_js\n",
    "for i in range(len(samples)):\n",
    "    for j in range(len(samples)):\n",
    "        gram_matrix[i, j] = gmm_js(gmm_samples[i], gmm_samples[j])\n",
    "\n",
    "gram_matrix"
   ],
   "metadata": {
    "collapsed": false,
    "pycharm": {
     "name": "#%%\n",
     "is_executing": false
    }
   }
  },
  {
   "cell_type": "code",
   "execution_count": 17,
   "outputs": [
    {
     "data": {
      "text/plain": "SVC(C=1.0, break_ties=False, cache_size=200, class_weight=None, coef0=0.0,\n    decision_function_shape='ovr', degree=3, gamma='scale',\n    kernel='precomputed', max_iter=-1, probability=False, random_state=None,\n    shrinking=True, tol=0.001, verbose=False)"
     },
     "metadata": {},
     "output_type": "execute_result",
     "execution_count": 17
    }
   ],
   "source": [
    "# apply custom rbf kernel\n",
    "def kernel(js: float, gamma: float = 0.1):\n",
    "    return np.exp(-gamma * js)\n",
    "\n",
    "# apply kernel\n",
    "kernel_func = np.vectorize(kernel)\n",
    "kernel_func(gram_matrix)\n",
    "\n",
    "# fit svm\n",
    "svc = svm.SVC(kernel='precomputed')\n",
    "svc.fit(gram_matrix, [1, 2])\n"
   ],
   "metadata": {
    "collapsed": false,
    "pycharm": {
     "name": "#%%\n",
     "is_executing": false
    }
   }
  },
  {
   "cell_type": "code",
   "execution_count": 20,
   "outputs": [
    {
     "name": "stderr",
     "text": [
      "/home/nick/dev/music-similarity/analysis/processing.py:52: RuntimeWarning: divide by zero encountered in log10\n",
      "  return np.nan_to_num(dct(np.log10(filterbanks), axis=0)[1:n_ceps + 1])\n"
     ],
     "output_type": "stream"
    },
    {
     "data": {
      "text/plain": "'class=[1]'"
     },
     "metadata": {},
     "output_type": "execute_result",
     "execution_count": 20
    }
   ],
   "source": [
    "# full pipeline\n",
    "\n",
    "song = '../data/songs/Akagami no Shirayuki-hime.wav'\n",
    "gmm = init_gmm(fit_gmm(convert_to_mfcc(song, frames=3000)))\n",
    "sims = list(map(lambda x: gmm_js(x, gmm), gmm_samples))\n",
    "sims = kernel_func(sims).reshape(1, -1)\n",
    "\n",
    "f'class={svc.predict(sims)}'\n"
   ],
   "metadata": {
    "collapsed": false,
    "pycharm": {
     "name": "#%%\n",
     "is_executing": false
    }
   }
  }
 ],
 "metadata": {
  "kernelspec": {
   "display_name": "Python 3",
   "language": "python",
   "name": "python3"
  },
  "language_info": {
   "codemirror_mode": {
    "name": "ipython",
    "version": 2
   },
   "file_extension": ".py",
   "mimetype": "text/x-python",
   "name": "python",
   "nbconvert_exporter": "python",
   "pygments_lexer": "ipython2",
   "version": "2.7.6"
  },
  "pycharm": {
   "stem_cell": {
    "cell_type": "raw",
    "source": [],
    "metadata": {
     "collapsed": false
    }
   }
  }
 },
 "nbformat": 4,
 "nbformat_minor": 0
}