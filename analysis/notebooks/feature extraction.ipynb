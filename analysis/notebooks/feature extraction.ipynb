{
 "cells": [
  {
   "cell_type": "code",
   "execution_count": 1,
   "metadata": {},
   "outputs": [
    {
     "output_type": "execute_result",
     "data": {
      "text/plain": "'/home/nick/dev/music-similarity/analysis'"
     },
     "metadata": {},
     "execution_count": 1
    }
   ],
   "source": [
    "import os\n",
    "# move to analysis folder\n",
    "os.chdir('..')\n",
    "os.getcwd()"
   ]
  },
  {
   "cell_type": "code",
   "execution_count": 2,
   "metadata": {},
   "outputs": [],
   "source": [
    "import processing\n",
    "import numpy as np\n",
    "\n",
    "mfcc1 = processing.convert_to_mfcc('data/songs/Dragon Ball.wav').T\n",
    "mfcc2 = processing.convert_to_mfcc('data/songs/Akagami no Shirayuki-hime.wav').T"
   ]
  },
  {
   "cell_type": "code",
   "execution_count": 3,
   "metadata": {},
   "outputs": [
    {
     "output_type": "execute_result",
     "data": {
      "text/plain": "'10886 samples of feature size 12'"
     },
     "metadata": {},
     "execution_count": 3
    }
   ],
   "source": [
    "f'{mfcc1.shape[0]} samples of feature size {mfcc1.shape[1]}'"
   ]
  },
  {
   "cell_type": "markdown",
   "metadata": {},
   "source": [
    "Do some preprocessing of raw mfcc"
   ]
  },
  {
   "cell_type": "code",
   "execution_count": 4,
   "metadata": {},
   "outputs": [],
   "source": [
    "# number of frames to use\n",
    "frames = 500\n",
    "mfcc1 = np.nan_to_num(mfcc1.real)[:frames]"
   ]
  },
  {
   "cell_type": "code",
   "execution_count": 5,
   "metadata": {},
   "outputs": [
    {
     "output_type": "execute_result",
     "data": {
      "text/plain": "GaussianMixture(covariance_type='full', init_params='kmeans', max_iter=100,\n                means_init=None, n_components=20, n_init=1,\n                precisions_init=None, random_state=None, reg_covar=1e-06,\n                tol=0.001, verbose=0, verbose_interval=10, warm_start=False,\n                weights_init=None)"
     },
     "metadata": {},
     "execution_count": 5
    }
   ],
   "source": [
    "from sklearn import mixture\n",
    "\n",
    "# this can be tweaked a bit\n",
    "components = 20\n",
    "gmix = mixture.GaussianMixture(n_components=components, covariance_type='full')\n",
    "gmix.fit(mfcc1)"
   ]
  },
  {
   "cell_type": "code",
   "execution_count": 6,
   "metadata": {},
   "outputs": [
    {
     "output_type": "execute_result",
     "data": {
      "text/plain": "(array([[ 1.33152319e-03, -1.87673986e-04,  3.36177693e-04,\n          5.04530311e-04, -5.64979708e-05,  2.53769527e-04,\n          2.98454393e-04,  2.76125807e-04, -1.42919179e-04,\n          8.60927431e-04, -7.91850425e-04, -2.74555881e-03]]),\n array([1]))"
     },
     "metadata": {},
     "execution_count": 6
    }
   ],
   "source": [
    "gmix.sample(1)"
   ]
  },
  {
   "cell_type": "code",
   "execution_count": 7,
   "metadata": {
    "tags": []
   },
   "outputs": [
    {
     "output_type": "stream",
     "name": "stdout",
     "text": "(20,)\n(20, 12)\n(20, 12, 12)\n"
    }
   ],
   "source": [
    "print(gmix.weights_.shape)\n",
    "print(gmix.means_.shape)\n",
    "print(gmix.covariances_.shape)"
   ]
  },
  {
   "cell_type": "markdown",
   "metadata": {},
   "source": [
    "### Pipeline\n",
    "song -> mfcc -> gmm -> feature vector of weights+means+covariances\n",
    "feature vector is of 20 + 20 * 12 + 20 * 12 * 12 length"
   ]
  }
 ],
 "metadata": {
  "kernelspec": {
   "display_name": "Python 3",
   "language": "python",
   "name": "python3"
  },
  "language_info": {
   "codemirror_mode": {
    "name": "ipython",
    "version": 3
   },
   "file_extension": ".py",
   "mimetype": "text/x-python",
   "name": "python",
   "nbconvert_exporter": "python",
   "pygments_lexer": "ipython3",
   "version": "3.7.2"
  }
 },
 "nbformat": 4,
 "nbformat_minor": 1
}