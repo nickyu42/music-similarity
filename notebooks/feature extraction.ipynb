{
 "cells": [
  {
   "cell_type": "code",
   "execution_count": 15,
   "metadata": {},
   "outputs": [
    {
     "output_type": "execute_result",
     "data": {
      "text/plain": "'/home/nick/dev/music-similarity/analysis'"
     },
     "metadata": {},
     "execution_count": 15
    }
   ],
   "source": [
    "import os\n",
    "# move to analysis folder\n",
    "os.chdir('../analysis')\n",
    "os.getcwd()"
   ]
  },
  {
   "cell_type": "code",
   "execution_count": 16,
   "metadata": {},
   "outputs": [],
   "source": [
    "import processing\n",
    "import numpy as np\n",
    "\n",
    "mfcc1 = processing.convert_to_mfcc('data/songs/Dragon Ball.wav').T\n",
    "mfcc2 = processing.convert_to_mfcc('data/songs/Akagami no Shirayuki-hime.wav').T"
   ]
  },
  {
   "cell_type": "code",
   "execution_count": 17,
   "metadata": {},
   "outputs": [
    {
     "output_type": "execute_result",
     "data": {
      "text/plain": "'10886 samples of feature size 12'"
     },
     "metadata": {},
     "execution_count": 17
    }
   ],
   "source": [
    "f'{mfcc1.shape[0]} samples of feature size {mfcc1.shape[1]}'"
   ]
  },
  {
   "cell_type": "markdown",
   "metadata": {},
   "source": [
    "## Do some preprocessing of raw mfcc"
   ]
  },
  {
   "cell_type": "code",
   "execution_count": 18,
   "metadata": {},
   "outputs": [],
   "source": [
    "# number of frames to use\n",
    "frames = 500\n",
    "mfcc1 = np.nan_to_num(mfcc1.real)[:frames]"
   ]
  },
  {
   "cell_type": "code",
   "execution_count": 19,
   "metadata": {},
   "outputs": [
    {
     "output_type": "execute_result",
     "data": {
      "text/plain": "GaussianMixture(covariance_type='full', init_params='kmeans', max_iter=100,\n                means_init=None, n_components=20, n_init=1,\n                precisions_init=None, random_state=None, reg_covar=1e-06,\n                tol=0.001, verbose=0, verbose_interval=10, warm_start=False,\n                weights_init=None)"
     },
     "metadata": {},
     "execution_count": 19
    }
   ],
   "source": [
    "from sklearn import mixture\n",
    "\n",
    "# this can be tweaked a bit\n",
    "components = 20\n",
    "gmix = mixture.GaussianMixture(n_components=components, covariance_type='full')\n",
    "gmix.fit(mfcc1)"
   ]
  },
  {
   "cell_type": "code",
   "execution_count": 20,
   "metadata": {},
   "outputs": [
    {
     "output_type": "execute_result",
     "data": {
      "text/plain": "(array([[ 0.27727213,  2.23730473,  2.21547144,  1.03630608,  0.61829112,\n          2.3745527 ,  0.19427296, -0.03942744,  0.91086592,  0.231788  ,\n         -0.48350586, -0.0355241 ]]),\n array([14]))"
     },
     "metadata": {},
     "execution_count": 20
    }
   ],
   "source": [
    "gmix.sample(1)"
   ]
  },
  {
   "cell_type": "code",
   "execution_count": 21,
   "metadata": {
    "tags": []
   },
   "outputs": [
    {
     "output_type": "stream",
     "name": "stdout",
     "text": "(20,)\n(20, 12)\n(20, 12, 12)\n"
    }
   ],
   "source": [
    "print(gmix.weights_.shape)\n",
    "print(gmix.means_.shape)\n",
    "print(gmix.covariances_.shape)"
   ]
  },
  {
   "cell_type": "markdown",
   "metadata": {},
   "source": [
    "### Pipeline\n",
    "song -> mfcc -> gmm -> feature vector of weights+means+covariances\n",
    "feature vector is of 20 + 20 * 12 + 20 * 12 * 12 length"
   ]
  }
 ],
 "metadata": {
  "kernelspec": {
   "display_name": "Python 3",
   "language": "python",
   "name": "python3"
  },
  "language_info": {
   "codemirror_mode": {
    "name": "ipython",
    "version": 3
   },
   "file_extension": ".py",
   "mimetype": "text/x-python",
   "name": "python",
   "nbconvert_exporter": "python",
   "pygments_lexer": "ipython3",
   "version": "3.7.2"
  }
 },
 "nbformat": 4,
 "nbformat_minor": 1
}