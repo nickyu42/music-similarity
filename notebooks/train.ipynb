{
 "cells": [
  {
   "cell_type": "markdown",
   "metadata": {},
   "source": [
    "# Music Similarity\n",
    "\n",
    "This is meant to be an example of how a model can be trained end-to-end and how it can be used for prediction.  \n",
    "The tutorial is split into 2 parts:\n",
    "\n",
    "1. Theory\n",
    "\n",
    "2. Tutorial  \n",
    "2.1 How to train a model  \n",
    "2.2 Predicting the classes  \n",
    "2.3 How to store and load the trained model  "
   ]
  },
  {
   "cell_type": "markdown",
   "metadata": {},
   "source": [
    "## 1. Theory\n",
    "\n",
    "TODO"
   ]
  },
  {
   "cell_type": "markdown",
   "metadata": {},
   "source": [
    "## 2. Tutorial\n",
    "\n",
    "First we will start by importing the necessary modules and defining some other information.\n",
    "\n",
    "`MusicSimModel` is the classifier and `train` is used for computing the gaussian mixture parameters.   \n",
    "The dataset we'll be using consists of two classes: \"shounen\" and \"shoujo\"."
   ]
  },
  {
   "cell_type": "code",
   "execution_count": 1,
   "metadata": {},
   "outputs": [],
   "source": [
    "import sys\n",
    "from pathlib import Path\n",
    "\n",
    "# Add root dir\n",
    "sys.path.append('../analysis')\n",
    "\n",
    "from classification import MusicSimModel\n",
    "from training import train\n",
    "\n",
    "class_names = ('shounen', 'shoujo')\n",
    "shounen_data_path = Path('/tmp/AnimeThemes/Shounen/wav')\n",
    "shoujo_data_path = Path('/tmp/AnimeThemes/Shoujo/wav')"
   ]
  },
  {
   "cell_type": "markdown",
   "metadata": {},
   "source": [
    "We'll create a list of all samples `samples` and a list with the corresponding class label for each sample in `class_labels`. \"shounen\" is given the label `1` and shoujo the label `2`."
   ]
  },
  {
   "cell_type": "code",
   "execution_count": 2,
   "metadata": {
    "tags": []
   },
   "outputs": [
    {
     "name": "stdout",
     "output_type": "stream",
     "text": [
      "Total samples=238\n",
      "Shounen class=152\n",
      "Shoujo class=86\n"
     ]
    }
   ],
   "source": [
    "samples = []\n",
    "class_labels = []\n",
    "\n",
    "for song_path in shounen_data_path.glob('*'):\n",
    "    samples.append(str(song_path.resolve()))\n",
    "    class_labels.append(1)\n",
    "\n",
    "for song_path in shoujo_data_path.glob('*'):\n",
    "    samples.append(str(song_path.resolve()))\n",
    "    class_labels.append(2)\n",
    "\n",
    "print(f'Total samples={len(samples)}')\n",
    "print(f'Shounen class={class_labels.count(1)}')\n",
    "print(f'Shoujo class={class_labels.count(2)}')"
   ]
  },
  {
   "cell_type": "markdown",
   "metadata": {},
   "source": [
    "## 2.1 How to train a model\n",
    "\n",
    "Now we can compute the parameters and the SVC using `train`, which will be used for the model."
   ]
  },
  {
   "cell_type": "code",
   "execution_count": 3,
   "metadata": {
    "tags": []
   },
   "outputs": [
    {
     "name": "stdout",
     "output_type": "stream",
     "text": [
      "Computing Gaussian Mixture Models with procceses=4\n",
      "    "
     ]
    },
    {
     "data": {
      "application/vnd.jupyter.widget-view+json": {
       "model_id": "1e7b77c2776c4e37940c5ae8d6aa944d",
       "version_major": 2,
       "version_minor": 0
      },
      "text/plain": [
       "HBox(children=(FloatProgress(value=0.0, description='worker 0', max=59.0, style=ProgressStyle(description_widt…"
      ]
     },
     "metadata": {},
     "output_type": "display_data"
    },
    {
     "data": {
      "application/vnd.jupyter.widget-view+json": {
       "model_id": "f6a143e0d24a400a87b19671cb157c4a",
       "version_major": 2,
       "version_minor": 0
      },
      "text/plain": [
       "HBox(children=(FloatProgress(value=0.0, description='worker 3', max=61.0, style=ProgressStyle(description_widt…"
      ]
     },
     "metadata": {},
     "output_type": "display_data"
    },
    {
     "data": {
      "application/vnd.jupyter.widget-view+json": {
       "model_id": "c16c01d340c246c58fe7df3bcf8b9bf0",
       "version_major": 2,
       "version_minor": 0
      },
      "text/plain": [
       "HBox(children=(FloatProgress(value=0.0, description='worker 1', max=59.0, style=ProgressStyle(description_widt…"
      ]
     },
     "metadata": {},
     "output_type": "display_data"
    },
    {
     "data": {
      "application/vnd.jupyter.widget-view+json": {
       "model_id": "344e5c0a3bb64d32b5ac0fc478fac0ab",
       "version_major": 2,
       "version_minor": 0
      },
      "text/plain": [
       "HBox(children=(FloatProgress(value=0.0, description='worker 2', max=59.0, style=ProgressStyle(description_widt…"
      ]
     },
     "metadata": {},
     "output_type": "display_data"
    },
    {
     "name": "stdout",
     "output_type": "stream",
     "text": [
      "\n",
      "\n",
      "\n",
      "\n",
      "Computing SVC gramm matrix\n"
     ]
    },
    {
     "data": {
      "application/vnd.jupyter.widget-view+json": {
       "model_id": "86c8eacb7a5447ccbf3eae33ac8b4480",
       "version_major": 2,
       "version_minor": 0
      },
      "text/plain": [
       "HBox(children=(FloatProgress(value=0.0, max=237.0), HTML(value='')))"
      ]
     },
     "metadata": {},
     "output_type": "display_data"
    },
    {
     "name": "stdout",
     "output_type": "stream",
     "text": [
      "\n",
      "Applying rbf\n",
      "Training SVC\n"
     ]
    }
   ],
   "source": [
    "svc, gmm_parameters = train(samples, class_labels, processes=4)\n",
    "\n",
    "model = MusicSimModel(gmm_parameters, class_labels, class_names, svc)"
   ]
  },
  {
   "cell_type": "markdown",
   "metadata": {},
   "source": [
    "## 2.2 Predicting the classes\n",
    "\n",
    "We can now use the trained models to predict which class a sample could belong to.\n",
    "For this example we'll use a shoujo song located in `/tmp/`. The `predict_file()` function produces the class label of the predicted song and the probability of that song being in that class."
   ]
  },
  {
   "cell_type": "code",
   "execution_count": 4,
   "metadata": {},
   "outputs": [
    {
     "name": "stdout",
     "output_type": "stream",
     "text": [
      "predicted_class=1\n",
      "probability=0.7317474968214651\n",
      "class=shoujo\n"
     ]
    }
   ],
   "source": [
    "# MusicSimModel currently only has the model parameters\n",
    "# so we have to create the mixture models using load()\n",
    "model.load()\n",
    "\n",
    "# Now let's try predicting the class of a sample\n",
    "sample = '/tmp/Cardcaptor Sakura.wav'\n",
    "results = model.predict_file([sample])\n",
    "prob, predicted_class = results[0]\n",
    "\n",
    "print(f'predicted_class={predicted_class}')\n",
    "print(f'probability={prob}')\n",
    "\n",
    "print(f'class={model.class_names[predicted_class]}')"
   ]
  },
  {
   "cell_type": "code",
   "execution_count": 5,
   "metadata": {},
   "outputs": [
    {
     "name": "stdout",
     "output_type": "stream",
     "text": [
      "3.2 s ± 88.7 ms per loop (mean ± std. dev. of 7 runs, 1 loop each)\n"
     ]
    }
   ],
   "source": [
    "%timeit model.predict_file([sample])"
   ]
  },
  {
   "cell_type": "markdown",
   "metadata": {},
   "source": [
    "## 2.3 How to store and load the trained model\n",
    "\n",
    "The method used for storing the model for use is by pickling the MusicSimModel object.  \n",
    "The `train_and_store()` function can be used as a helper function for this.  \n",
    "\n",
    "Using the samples we've already defined in section 2 an example of an end-to-end solution would be:\n",
    "\n",
    "```python\n",
    "path = '/path/to/model/'\n",
    "filename = 'model.pickle'\n",
    "\n",
    "from training import train_and_store\n",
    "\n",
    "# store a model\n",
    "train_and_store(samples, class_labels, path, filename, processes=4)\n",
    "```\n",
    "\n",
    "If however, you already have a trained model, it can be stored by saving it as pickle file.\n",
    "\n",
    "e.g.\n",
    "\n",
    "```python\n",
    "with (path + filename).open('wb') as f:\n",
    "    pickle.dump(model, f)\n",
    "```\n",
    "\n",
    "When a model is saved at a certain path it can then be loaded then via:\n",
    "\n",
    "```python\n",
    "# load a model\n",
    "with open(path + filename, 'rb') as f:\n",
    "    model: MusicSimModel = pickle.load(f)\n",
    "```"
   ]
  }
 ],
 "metadata": {
  "kernelspec": {
   "display_name": "Python 3",
   "language": "python",
   "name": "python3"
  },
  "language_info": {
   "codemirror_mode": {
    "name": "ipython",
    "version": 3
   },
   "file_extension": ".py",
   "mimetype": "text/x-python",
   "name": "python",
   "nbconvert_exporter": "python",
   "pygments_lexer": "ipython3",
   "version": "3.8.3"
  }
 },
 "nbformat": 4,
 "nbformat_minor": 2
}
