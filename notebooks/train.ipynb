{
 "cells": [
  {
   "cell_type": "markdown",
   "metadata": {},
   "source": [
    "# Music Similarity\n",
    "\n",
    "This is meant to be an example of how a model can be trained end-to-end and how it can be used for prediction.  \n",
    "The tutorial is split into 2 parts:\n",
    "\n",
    "1. Theory\n",
    "- How it works\n",
    "\n",
    "2. Tutorial\n",
    "- How to train and store the model\n",
    "- How to load the model\n",
    "- Predicting the classes"
   ]
  },
  {
   "cell_type": "markdown",
   "metadata": {},
   "source": [
    "## 1. Theory\n",
    "\n",
    "TODO"
   ]
  },
  {
   "cell_type": "markdown",
   "metadata": {},
   "source": [
    "## 2. Tutorial\n",
    "\n",
    "First we will start by importing the necessary modules and defining some other information.\n",
    "\n",
    "`MusicSimModel` is the classifier and `train` is used for computing the gaussian mixture parameters.   \n",
    "The dataset we'll be using consists of two classes: \"shounen\" and \"shoujo\".\n"
   ]
  },
  {
   "cell_type": "code",
   "execution_count": 1,
   "metadata": {},
   "outputs": [],
   "source": [
    "import sys\n",
    "from pathlib import Path\n",
    "\n",
    "# Add root dir\n",
    "sys.path.append('../analysis')\n",
    "\n",
    "from classification import MusicSimModel\n",
    "from training import train\n",
    "\n",
    "class_names = ('shounen', 'shoujo')\n",
    "shounen_data_path = Path('/run/media/nick/My Passport/AnimeThemes/Shounen/wav')\n",
    "shoujo_data_path = Path('/run/media/nick/My Passport/AnimeThemes/Shoujo/wav')"
   ]
  },
  {
   "cell_type": "code",
   "execution_count": 2,
   "metadata": {
    "tags": []
   },
   "outputs": [
    {
     "name": "stdout",
     "output_type": "stream",
     "text": [
      "sample=/run/media/nick/My Passport/AnimeThemes/Shounen/wav/Akame ga Kill!.wav\n",
      "class_label=1\n",
      "Total samples=238\n"
     ]
    }
   ],
   "source": [
    "samples = []\n",
    "class_labels = []\n",
    "\n",
    "for song_path in shounen_data_path.glob('*'):\n",
    "    samples.append(str(song_path.resolve()))\n",
    "    class_labels.append(1)\n",
    "\n",
    "for song_path in shoujo_data_path.glob('*'):\n",
    "    samples.append(str(song_path.resolve()))\n",
    "    class_labels.append(2)\n",
    "\n",
    "print(f'sample={samples[2]}')\n",
    "print(f'class_label={class_labels[2]}')\n",
    "print(f'Total samples={len(samples)}')"
   ]
  },
  {
   "cell_type": "code",
   "execution_count": 3,
   "metadata": {
    "tags": []
   },
   "outputs": [
    {
     "name": "stdout",
     "output_type": "stream",
     "text": [
      "Computing Gaussian Mixture Models with procceses=4\n",
      "    "
     ]
    },
    {
     "data": {
      "application/vnd.jupyter.widget-view+json": {
       "model_id": "e8bbf31631f64d3b8768d94e20a0ffd4",
       "version_major": 2,
       "version_minor": 0
      },
      "text/plain": [
       "HBox(children=(FloatProgress(value=0.0, description='worker 2', max=59.0, style=ProgressStyle(description_widt…"
      ]
     },
     "metadata": {},
     "output_type": "display_data"
    },
    {
     "data": {
      "application/vnd.jupyter.widget-view+json": {
       "model_id": "1985746b6362423692a674566eb42ad4",
       "version_major": 2,
       "version_minor": 0
      },
      "text/plain": [
       "HBox(children=(FloatProgress(value=0.0, description='worker 0', max=59.0, style=ProgressStyle(description_widt…"
      ]
     },
     "metadata": {},
     "output_type": "display_data"
    },
    {
     "data": {
      "application/vnd.jupyter.widget-view+json": {
       "model_id": "7e761bf6054943a0819625c20fff0661",
       "version_major": 2,
       "version_minor": 0
      },
      "text/plain": [
       "HBox(children=(FloatProgress(value=0.0, description='worker 1', max=59.0, style=ProgressStyle(description_widt…"
      ]
     },
     "metadata": {},
     "output_type": "display_data"
    },
    {
     "data": {
      "application/vnd.jupyter.widget-view+json": {
       "model_id": "3acc5c61d4be423aaa926883f6571875",
       "version_major": 2,
       "version_minor": 0
      },
      "text/plain": [
       "HBox(children=(FloatProgress(value=0.0, description='worker 3', max=61.0, style=ProgressStyle(description_widt…"
      ]
     },
     "metadata": {},
     "output_type": "display_data"
    },
    {
     "name": "stdout",
     "output_type": "stream",
     "text": [
      "\n"
     ]
    },
    {
     "name": "stderr",
     "output_type": "stream",
     "text": [
      "Process ForkPoolWorker-3:\n",
      "Traceback (most recent call last):\n"
     ]
    },
    {
     "name": "stdout",
     "output_type": "stream",
     "text": [
      "\n"
     ]
    },
    {
     "name": "stderr",
     "output_type": "stream",
     "text": [
      "  File \"/usr/lib/python3.8/multiprocessing/process.py\", line 315, in _bootstrap\n",
      "    self.run()\n",
      "Process ForkPoolWorker-1:\n",
      "  File \"/usr/lib/python3.8/multiprocessing/process.py\", line 108, in run\n",
      "    self._target(*self._args, **self._kwargs)\n"
     ]
    },
    {
     "name": "stdout",
     "output_type": "stream",
     "text": [
      "\n"
     ]
    },
    {
     "name": "stderr",
     "output_type": "stream",
     "text": [
      "  File \"/usr/lib/python3.8/multiprocessing/pool.py\", line 114, in worker\n",
      "    task = get()\n",
      "  File \"/usr/lib/python3.8/multiprocessing/queues.py\", line 356, in get\n",
      "    res = self._reader.recv_bytes()\n",
      "Traceback (most recent call last):\n",
      "  File \"/usr/lib/python3.8/multiprocessing/connection.py\", line 216, in recv_bytes\n",
      "    buf = self._recv_bytes(maxlength)\n",
      "Process ForkPoolWorker-2:\n",
      "  File \"/usr/lib/python3.8/multiprocessing/process.py\", line 315, in _bootstrap\n",
      "    self.run()\n"
     ]
    },
    {
     "name": "stdout",
     "output_type": "stream",
     "text": [
      "\n"
     ]
    },
    {
     "name": "stderr",
     "output_type": "stream",
     "text": [
      "  File \"/usr/lib/python3.8/multiprocessing/connection.py\", line 414, in _recv_bytes\n",
      "    buf = self._recv(4)\n",
      "  File \"/usr/lib/python3.8/multiprocessing/process.py\", line 108, in run\n",
      "    self._target(*self._args, **self._kwargs)\n",
      "  File \"/usr/lib/python3.8/multiprocessing/connection.py\", line 379, in _recv\n",
      "    chunk = read(handle, remaining)\n",
      "Traceback (most recent call last):\n",
      "KeyboardInterrupt\n",
      "Process ForkPoolWorker-4:\n",
      "  File \"/usr/lib/python3.8/multiprocessing/process.py\", line 315, in _bootstrap\n",
      "    self.run()\n",
      "  File \"/usr/lib/python3.8/multiprocessing/pool.py\", line 125, in worker\n",
      "    result = (True, func(*args, **kwds))\n",
      "  File \"/usr/lib/python3.8/multiprocessing/process.py\", line 108, in run\n",
      "    self._target(*self._args, **self._kwargs)\n",
      "  File \"/usr/lib/python3.8/multiprocessing/pool.py\", line 125, in worker\n",
      "    result = (True, func(*args, **kwds))\n",
      "  File \"../analysis/training.py\", line 29, in _gmm_worker\n",
      "    gmms.append(fit_gmm(convert_to_mfcc(song, frames=30000)))\n",
      "  File \"../analysis/training.py\", line 29, in _gmm_worker\n",
      "    gmms.append(fit_gmm(convert_to_mfcc(song, frames=30000)))\n",
      "Traceback (most recent call last):\n",
      "  File \"../analysis/classification.py\", line 24, in fit_gmm\n",
      "    gmix.fit(mfcc)\n",
      "  File \"/usr/lib/python3.8/multiprocessing/process.py\", line 315, in _bootstrap\n",
      "    self.run()\n",
      "  File \"../analysis/classification.py\", line 24, in fit_gmm\n",
      "    gmix.fit(mfcc)\n",
      "  File \"/usr/lib/python3.8/multiprocessing/process.py\", line 108, in run\n",
      "    self._target(*self._args, **self._kwargs)\n",
      "  File \"/home/nick/dev/music-similarity/venv/lib/python3.8/site-packages/sklearn/mixture/_base.py\", line 192, in fit\n",
      "    self.fit_predict(X, y)\n",
      "  File \"/home/nick/dev/music-similarity/venv/lib/python3.8/site-packages/sklearn/mixture/_base.py\", line 192, in fit\n",
      "    self.fit_predict(X, y)\n",
      "  File \"/usr/lib/python3.8/multiprocessing/pool.py\", line 125, in worker\n",
      "    result = (True, func(*args, **kwds))\n",
      "  File \"/home/nick/dev/music-similarity/venv/lib/python3.8/site-packages/sklearn/mixture/_base.py\", line 244, in fit_predict\n",
      "    self._m_step(X, log_resp)\n",
      "  File \"../analysis/training.py\", line 29, in _gmm_worker\n",
      "    gmms.append(fit_gmm(convert_to_mfcc(song, frames=30000)))\n",
      "  File \"/home/nick/dev/music-similarity/venv/lib/python3.8/site-packages/sklearn/mixture/_gaussian_mixture.py\", line 673, in _m_step\n",
      "    _estimate_gaussian_parameters(X, np.exp(log_resp), self.reg_covar,\n",
      "  File \"/home/nick/dev/music-similarity/venv/lib/python3.8/site-packages/sklearn/mixture/_base.py\", line 243, in fit_predict\n",
      "    log_prob_norm, log_resp = self._e_step(X)\n",
      "  File \"../analysis/processing.py\", line 46, in convert_to_mfcc\n",
      "    frame = signal[:, i] * np.hamming(frame_size)\n",
      "  File \"/home/nick/dev/music-similarity/venv/lib/python3.8/site-packages/sklearn/mixture/_gaussian_mixture.py\", line 280, in _estimate_gaussian_parameters\n",
      "    covariances = {\"full\": _estimate_gaussian_covariances_full,\n",
      "  File \"/home/nick/dev/music-similarity/venv/lib/python3.8/site-packages/numpy/lib/function_base.py\", line 2957, in hamming\n",
      "    return 0.54 - 0.46*cos(2.0*pi*n/(M-1))\n",
      "  File \"/home/nick/dev/music-similarity/venv/lib/python3.8/site-packages/sklearn/mixture/_gaussian_mixture.py\", line 166, in _estimate_gaussian_covariances_full\n",
      "    covariances[k] = np.dot(resp[:, k] * diff.T, diff) / nk[k]\n",
      "  File \"/home/nick/dev/music-similarity/venv/lib/python3.8/site-packages/sklearn/mixture/_base.py\", line 296, in _e_step\n",
      "    log_prob_norm, log_resp = self._estimate_log_prob_resp(X)\n",
      "KeyboardInterrupt\n",
      "  File \"<__array_function__ internals>\", line 5, in dot\n",
      "  File \"/home/nick/dev/music-similarity/venv/lib/python3.8/site-packages/sklearn/mixture/_base.py\", line 501, in _estimate_log_prob_resp\n",
      "    weighted_log_prob = self._estimate_weighted_log_prob(X)\n",
      "KeyboardInterrupt\n",
      "  File \"/home/nick/dev/music-similarity/venv/lib/python3.8/site-packages/sklearn/mixture/_base.py\", line 454, in _estimate_weighted_log_prob\n",
      "    return self._estimate_log_prob(X) + self._estimate_log_weights()\n",
      "  File \"/home/nick/dev/music-similarity/venv/lib/python3.8/site-packages/sklearn/mixture/_gaussian_mixture.py\", line 680, in _estimate_log_prob\n",
      "    return _estimate_log_gaussian_prob(\n",
      "  File \"/home/nick/dev/music-similarity/venv/lib/python3.8/site-packages/sklearn/mixture/_gaussian_mixture.py\", line 411, in _estimate_log_gaussian_prob\n",
      "    y = np.dot(X, prec_chol) - np.dot(mu, prec_chol)\n",
      "  File \"<__array_function__ internals>\", line 5, in dot\n",
      "KeyboardInterrupt\n"
     ]
    },
    {
     "ename": "KeyboardInterrupt",
     "evalue": "",
     "output_type": "error",
     "traceback": [
      "\u001b[0;31m---------------------------------------------------------------------------\u001b[0m",
      "\u001b[0;31mKeyboardInterrupt\u001b[0m                         Traceback (most recent call last)",
      "\u001b[0;32m<ipython-input-3-8ff056b30fc2>\u001b[0m in \u001b[0;36m<module>\u001b[0;34m\u001b[0m\n\u001b[0;32m----> 1\u001b[0;31m \u001b[0msvc\u001b[0m\u001b[0;34m,\u001b[0m \u001b[0mgmm_parameters\u001b[0m \u001b[0;34m=\u001b[0m \u001b[0mtrain\u001b[0m\u001b[0;34m(\u001b[0m\u001b[0msamples\u001b[0m\u001b[0;34m,\u001b[0m \u001b[0mclass_labels\u001b[0m\u001b[0;34m,\u001b[0m \u001b[0mprocesses\u001b[0m\u001b[0;34m=\u001b[0m\u001b[0;36m4\u001b[0m\u001b[0;34m)\u001b[0m\u001b[0;34m\u001b[0m\u001b[0;34m\u001b[0m\u001b[0m\n\u001b[0m\u001b[1;32m      2\u001b[0m \u001b[0;34m\u001b[0m\u001b[0m\n\u001b[1;32m      3\u001b[0m \u001b[0mmodel\u001b[0m \u001b[0;34m=\u001b[0m \u001b[0mMusicSimModel\u001b[0m\u001b[0;34m(\u001b[0m\u001b[0mgmm_parameters\u001b[0m\u001b[0;34m,\u001b[0m \u001b[0mclass_labels\u001b[0m\u001b[0;34m,\u001b[0m \u001b[0mclass_names\u001b[0m\u001b[0;34m,\u001b[0m \u001b[0msvc\u001b[0m\u001b[0;34m)\u001b[0m\u001b[0;34m\u001b[0m\u001b[0;34m\u001b[0m\u001b[0m\n",
      "\u001b[0;32m~/dev/music-similarity/analysis/training.py\u001b[0m in \u001b[0;36mtrain\u001b[0;34m(songs, classes, processes)\u001b[0m\n\u001b[1;32m    112\u001b[0m     \u001b[0;34m:\u001b[0m\u001b[0;32mreturn\u001b[0m\u001b[0;34m:\u001b[0m \u001b[0mSVC\u001b[0m \u001b[0;32mand\u001b[0m \u001b[0mgmm_parameters\u001b[0m \u001b[0;32mfor\u001b[0m \u001b[0mstoring\u001b[0m\u001b[0;34m.\u001b[0m\u001b[0;34m\u001b[0m\u001b[0;34m\u001b[0m\u001b[0m\n\u001b[1;32m    113\u001b[0m     \"\"\"\n\u001b[0;32m--> 114\u001b[0;31m     \u001b[0mgmm_parameters\u001b[0m \u001b[0;34m=\u001b[0m \u001b[0mcompute_gmm_parameters\u001b[0m\u001b[0;34m(\u001b[0m\u001b[0msongs\u001b[0m\u001b[0;34m,\u001b[0m \u001b[0mprocesses\u001b[0m\u001b[0;34m)\u001b[0m\u001b[0;34m\u001b[0m\u001b[0;34m\u001b[0m\u001b[0m\n\u001b[0m\u001b[1;32m    115\u001b[0m     \u001b[0mgram_matrix\u001b[0m \u001b[0;34m=\u001b[0m \u001b[0mcompute_gram_matrix\u001b[0m\u001b[0;34m(\u001b[0m\u001b[0mgmm_parameters\u001b[0m\u001b[0;34m)\u001b[0m\u001b[0;34m\u001b[0m\u001b[0;34m\u001b[0m\u001b[0m\n\u001b[1;32m    116\u001b[0m \u001b[0;34m\u001b[0m\u001b[0m\n",
      "\u001b[0;32m~/dev/music-similarity/analysis/training.py\u001b[0m in \u001b[0;36mcompute_gmm_parameters\u001b[0;34m(songs, processes)\u001b[0m\n\u001b[1;32m     69\u001b[0m     \u001b[0;31m# join all futures in order\u001b[0m\u001b[0;34m\u001b[0m\u001b[0;34m\u001b[0m\u001b[0;34m\u001b[0m\u001b[0m\n\u001b[1;32m     70\u001b[0m     \u001b[0;32mfor\u001b[0m \u001b[0mresult\u001b[0m \u001b[0;32min\u001b[0m \u001b[0mresults\u001b[0m\u001b[0;34m:\u001b[0m\u001b[0;34m\u001b[0m\u001b[0;34m\u001b[0m\u001b[0m\n\u001b[0;32m---> 71\u001b[0;31m         \u001b[0mresult\u001b[0m\u001b[0;34m.\u001b[0m\u001b[0mwait\u001b[0m\u001b[0;34m(\u001b[0m\u001b[0;34m)\u001b[0m\u001b[0;34m\u001b[0m\u001b[0;34m\u001b[0m\u001b[0m\n\u001b[0m\u001b[1;32m     72\u001b[0m         \u001b[0mall_gmms\u001b[0m\u001b[0;34m.\u001b[0m\u001b[0mextend\u001b[0m\u001b[0;34m(\u001b[0m\u001b[0mresult\u001b[0m\u001b[0;34m.\u001b[0m\u001b[0mget\u001b[0m\u001b[0;34m(\u001b[0m\u001b[0;34m)\u001b[0m\u001b[0;34m)\u001b[0m\u001b[0;34m\u001b[0m\u001b[0;34m\u001b[0m\u001b[0m\n\u001b[1;32m     73\u001b[0m \u001b[0;34m\u001b[0m\u001b[0m\n",
      "\u001b[0;32m/usr/lib/python3.8/multiprocessing/pool.py\u001b[0m in \u001b[0;36mwait\u001b[0;34m(self, timeout)\u001b[0m\n\u001b[1;32m    760\u001b[0m \u001b[0;34m\u001b[0m\u001b[0m\n\u001b[1;32m    761\u001b[0m     \u001b[0;32mdef\u001b[0m \u001b[0mwait\u001b[0m\u001b[0;34m(\u001b[0m\u001b[0mself\u001b[0m\u001b[0;34m,\u001b[0m \u001b[0mtimeout\u001b[0m\u001b[0;34m=\u001b[0m\u001b[0;32mNone\u001b[0m\u001b[0;34m)\u001b[0m\u001b[0;34m:\u001b[0m\u001b[0;34m\u001b[0m\u001b[0;34m\u001b[0m\u001b[0m\n\u001b[0;32m--> 762\u001b[0;31m         \u001b[0mself\u001b[0m\u001b[0;34m.\u001b[0m\u001b[0m_event\u001b[0m\u001b[0;34m.\u001b[0m\u001b[0mwait\u001b[0m\u001b[0;34m(\u001b[0m\u001b[0mtimeout\u001b[0m\u001b[0;34m)\u001b[0m\u001b[0;34m\u001b[0m\u001b[0;34m\u001b[0m\u001b[0m\n\u001b[0m\u001b[1;32m    763\u001b[0m \u001b[0;34m\u001b[0m\u001b[0m\n\u001b[1;32m    764\u001b[0m     \u001b[0;32mdef\u001b[0m \u001b[0mget\u001b[0m\u001b[0;34m(\u001b[0m\u001b[0mself\u001b[0m\u001b[0;34m,\u001b[0m \u001b[0mtimeout\u001b[0m\u001b[0;34m=\u001b[0m\u001b[0;32mNone\u001b[0m\u001b[0;34m)\u001b[0m\u001b[0;34m:\u001b[0m\u001b[0;34m\u001b[0m\u001b[0;34m\u001b[0m\u001b[0m\n",
      "\u001b[0;32m/usr/lib/python3.8/threading.py\u001b[0m in \u001b[0;36mwait\u001b[0;34m(self, timeout)\u001b[0m\n\u001b[1;32m    556\u001b[0m             \u001b[0msignaled\u001b[0m \u001b[0;34m=\u001b[0m \u001b[0mself\u001b[0m\u001b[0;34m.\u001b[0m\u001b[0m_flag\u001b[0m\u001b[0;34m\u001b[0m\u001b[0;34m\u001b[0m\u001b[0m\n\u001b[1;32m    557\u001b[0m             \u001b[0;32mif\u001b[0m \u001b[0;32mnot\u001b[0m \u001b[0msignaled\u001b[0m\u001b[0;34m:\u001b[0m\u001b[0;34m\u001b[0m\u001b[0;34m\u001b[0m\u001b[0m\n\u001b[0;32m--> 558\u001b[0;31m                 \u001b[0msignaled\u001b[0m \u001b[0;34m=\u001b[0m \u001b[0mself\u001b[0m\u001b[0;34m.\u001b[0m\u001b[0m_cond\u001b[0m\u001b[0;34m.\u001b[0m\u001b[0mwait\u001b[0m\u001b[0;34m(\u001b[0m\u001b[0mtimeout\u001b[0m\u001b[0;34m)\u001b[0m\u001b[0;34m\u001b[0m\u001b[0;34m\u001b[0m\u001b[0m\n\u001b[0m\u001b[1;32m    559\u001b[0m             \u001b[0;32mreturn\u001b[0m \u001b[0msignaled\u001b[0m\u001b[0;34m\u001b[0m\u001b[0;34m\u001b[0m\u001b[0m\n\u001b[1;32m    560\u001b[0m \u001b[0;34m\u001b[0m\u001b[0m\n",
      "\u001b[0;32m/usr/lib/python3.8/threading.py\u001b[0m in \u001b[0;36mwait\u001b[0;34m(self, timeout)\u001b[0m\n\u001b[1;32m    300\u001b[0m         \u001b[0;32mtry\u001b[0m\u001b[0;34m:\u001b[0m    \u001b[0;31m# restore state no matter what (e.g., KeyboardInterrupt)\u001b[0m\u001b[0;34m\u001b[0m\u001b[0;34m\u001b[0m\u001b[0m\n\u001b[1;32m    301\u001b[0m             \u001b[0;32mif\u001b[0m \u001b[0mtimeout\u001b[0m \u001b[0;32mis\u001b[0m \u001b[0;32mNone\u001b[0m\u001b[0;34m:\u001b[0m\u001b[0;34m\u001b[0m\u001b[0;34m\u001b[0m\u001b[0m\n\u001b[0;32m--> 302\u001b[0;31m                 \u001b[0mwaiter\u001b[0m\u001b[0;34m.\u001b[0m\u001b[0macquire\u001b[0m\u001b[0;34m(\u001b[0m\u001b[0;34m)\u001b[0m\u001b[0;34m\u001b[0m\u001b[0;34m\u001b[0m\u001b[0m\n\u001b[0m\u001b[1;32m    303\u001b[0m                 \u001b[0mgotit\u001b[0m \u001b[0;34m=\u001b[0m \u001b[0;32mTrue\u001b[0m\u001b[0;34m\u001b[0m\u001b[0;34m\u001b[0m\u001b[0m\n\u001b[1;32m    304\u001b[0m             \u001b[0;32melse\u001b[0m\u001b[0;34m:\u001b[0m\u001b[0;34m\u001b[0m\u001b[0;34m\u001b[0m\u001b[0m\n",
      "\u001b[0;31mKeyboardInterrupt\u001b[0m: "
     ]
    }
   ],
   "source": [
    "svc, gmm_parameters = train(samples, class_labels, processes=4)\n",
    "\n",
    "model = MusicSimModel(gmm_parameters, class_labels, class_names, svc)"
   ]
  },
  {
   "cell_type": "code",
   "execution_count": null,
   "metadata": {},
   "outputs": [],
   "source": []
  }
 ],
 "metadata": {
  "kernelspec": {
   "display_name": "Python 3",
   "language": "python",
   "name": "python3"
  },
  "language_info": {
   "codemirror_mode": {
    "name": "ipython",
    "version": 3
   },
   "file_extension": ".py",
   "mimetype": "text/x-python",
   "name": "python",
   "nbconvert_exporter": "python",
   "pygments_lexer": "ipython3",
   "version": "3.8.3"
  }
 },
 "nbformat": 4,
 "nbformat_minor": 2
}
