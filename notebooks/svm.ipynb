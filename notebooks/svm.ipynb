{
 "cells": [
  {
   "cell_type": "code",
   "execution_count": 1,
   "metadata": {
    "pycharm": {
     "is_executing": false
    },
    "tags": []
   },
   "outputs": [
    {
     "name": "stdout",
     "output_type": "stream",
     "text": [
      "(12, 3000)\n"
     ]
    }
   ],
   "source": [
    "import numpy as np\n",
    "from sklearn import svm\n",
    "\n",
    "from analysis.processing import convert_to_mfcc\n",
    "from analysis.classification import gmm_js, fit_gmm, init_gmm\n",
    "\n",
    "# create samples\n",
    "samples = list()\n",
    "samples.append(convert_to_mfcc('../analysis/data/songs/Akagami no Shirayuki-hime.wav', frames=3000))\n",
    "samples.append(convert_to_mfcc('../analysis/data/songs/Dragon Ball.wav', frames=3000))\n",
    "\n",
    "print(samples[0].shape)"
   ]
  },
  {
   "cell_type": "code",
   "execution_count": 2,
   "metadata": {
    "pycharm": {
     "is_executing": false,
     "name": "#%%\n"
    }
   },
   "outputs": [
    {
     "data": {
      "text/plain": [
       "array([[1.77635684e-15, 5.77728315e-01],\n",
       "       [5.72763560e-01, 0.00000000e+00]])"
      ]
     },
     "execution_count": 2,
     "metadata": {},
     "output_type": "execute_result"
    }
   ],
   "source": [
    "# create gram matrix\n",
    "gram_matrix = np.zeros((2, 2))\n",
    "\n",
    "# precompute gmm's\n",
    "gmm_samples = list(map(lambda x: init_gmm(fit_gmm(x)), samples))\n",
    "\n",
    "# precompute d_js\n",
    "for i in range(len(samples)):\n",
    "    for j in range(len(samples)):\n",
    "        gram_matrix[i, j] = gmm_js(gmm_samples[i], gmm_samples[j])\n",
    "\n",
    "gram_matrix"
   ]
  },
  {
   "cell_type": "code",
   "execution_count": 3,
   "metadata": {
    "pycharm": {
     "is_executing": false,
     "name": "#%%\n"
    }
   },
   "outputs": [
    {
     "data": {
      "text/plain": [
       "SVC(C=1.0, break_ties=False, cache_size=200, class_weight=None, coef0=0.0,\n",
       "    decision_function_shape='ovr', degree=3, gamma='scale',\n",
       "    kernel='precomputed', max_iter=-1, probability=False, random_state=None,\n",
       "    shrinking=True, tol=0.001, verbose=False)"
      ]
     },
     "execution_count": 3,
     "metadata": {},
     "output_type": "execute_result"
    }
   ],
   "source": [
    "# apply custom rbf kernel\n",
    "def kernel(js: float, gamma: float = 0.1):\n",
    "    return np.exp(-gamma * js)\n",
    "\n",
    "# apply kernel\n",
    "kernel_func = np.vectorize(kernel)\n",
    "kernel_func(gram_matrix)\n",
    "\n",
    "# fit svm\n",
    "svc = svm.SVC(kernel='precomputed')\n",
    "svc.fit(gram_matrix, [1, 2])"
   ]
  },
  {
   "cell_type": "markdown",
   "metadata": {},
   "source": [
    "## Predict the class of song using the trained model"
   ]
  },
  {
   "cell_type": "code",
   "execution_count": 4,
   "metadata": {
    "pycharm": {
     "is_executing": false,
     "name": "#%%\n"
    }
   },
   "outputs": [
    {
     "data": {
      "text/plain": [
       "'class=[1]'"
      ]
     },
     "execution_count": 4,
     "metadata": {},
     "output_type": "execute_result"
    }
   ],
   "source": [
    "# full pipeline\n",
    "\n",
    "song = '../analysis/data/songs/Akagami no Shirayuki-hime.wav'\n",
    "gmm = init_gmm(fit_gmm(convert_to_mfcc(song, frames=3000)))\n",
    "sims = list(map(lambda x: gmm_js(x, gmm), gmm_samples))\n",
    "sims = kernel_func(sims).reshape(1, -1)\n",
    "\n",
    "f'class={svc.predict(sims)}'"
   ]
  }
 ],
 "metadata": {
  "kernelspec": {
   "display_name": "venv",
   "language": "python",
   "name": "venv"
  },
  "language_info": {
   "codemirror_mode": {
    "name": "ipython",
    "version": 3
   },
   "file_extension": ".py",
   "mimetype": "text/x-python",
   "name": "python",
   "nbconvert_exporter": "python",
   "pygments_lexer": "ipython3",
   "version": "3.8.3"
  },
  "pycharm": {
   "stem_cell": {
    "cell_type": "raw",
    "metadata": {
     "collapsed": false
    },
    "source": []
   }
  }
 },
 "nbformat": 4,
 "nbformat_minor": 1
}
