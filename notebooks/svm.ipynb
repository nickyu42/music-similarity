{
 "cells": [
  {
   "cell_type": "code",
   "execution_count": 1,
   "metadata": {
    "collapsed": true,
    "pycharm": {
     "is_executing": false
    },
    "tags": []
   },
   "outputs": [
    {
     "output_type": "stream",
     "name": "stdout",
     "text": "(12, 3000)\n"
    }
   ],
   "source": [
    "import sys\n",
    "# add path for processing module\n",
    "sys.path.append('../analysis')\n",
    "\n",
    "import numpy as np\n",
    "from sklearn import svm\n",
    "\n",
    "from processing import convert_to_mfcc\n",
    "from classification import gmm_js, fit_gmm, init_gmm\n",
    "\n",
    "# create samples\n",
    "samples = list()\n",
    "samples.append(convert_to_mfcc('../analysis/data/songs/Akagami no Shirayuki-hime.wav', frames=3000))\n",
    "samples.append(convert_to_mfcc('../analysis/data/songs/Dragon Ball.wav', frames=3000))\n",
    "\n",
    "print(samples[0].shape)"
   ]
  },
  {
   "cell_type": "code",
   "execution_count": 2,
   "outputs": [
    {
     "output_type": "execute_result",
     "data": {
      "text/plain": "array([[ 0.00000000e+00,  5.80062956e-01],\n       [ 5.90688752e-01, -4.44089210e-16]])"
     },
     "metadata": {},
     "execution_count": 2
    }
   ],
   "source": [
    "# create gram matrix\n",
    "gram_matrix = np.zeros((2, 2))\n",
    "\n",
    "# precompute gmm's\n",
    "gmm_samples = list(map(lambda x: init_gmm(fit_gmm(x)), samples))\n",
    "\n",
    "# precompute d_js\n",
    "for i in range(len(samples)):\n",
    "    for j in range(len(samples)):\n",
    "        gram_matrix[i, j] = gmm_js(gmm_samples[i], gmm_samples[j])\n",
    "\n",
    "gram_matrix"
   ],
   "metadata": {
    "collapsed": false,
    "pycharm": {
     "name": "#%%\n",
     "is_executing": false
    }
   }
  },
  {
   "cell_type": "code",
   "execution_count": 3,
   "outputs": [
    {
     "output_type": "execute_result",
     "data": {
      "text/plain": "SVC(C=1.0, break_ties=False, cache_size=200, class_weight=None, coef0=0.0,\n    decision_function_shape='ovr', degree=3, gamma='scale',\n    kernel='precomputed', max_iter=-1, probability=False, random_state=None,\n    shrinking=True, tol=0.001, verbose=False)"
     },
     "metadata": {},
     "execution_count": 3
    }
   ],
   "source": [
    "# apply custom rbf kernel\n",
    "def kernel(js: float, gamma: float = 0.1):\n",
    "    return np.exp(-gamma * js)\n",
    "\n",
    "# apply kernel\n",
    "kernel_func = np.vectorize(kernel)\n",
    "kernel_func(gram_matrix)\n",
    "\n",
    "# fit svm\n",
    "svc = svm.SVC(kernel='precomputed')\n",
    "svc.fit(gram_matrix, [1, 2])"
   ],
   "metadata": {
    "collapsed": false,
    "pycharm": {
     "name": "#%%\n",
     "is_executing": false
    }
   }
  },
  {
   "cell_type": "markdown",
   "metadata": {},
   "source": [
    "## Predict the class of song using the trained model"
   ]
  },
  {
   "cell_type": "code",
   "execution_count": 4,
   "outputs": [
    {
     "output_type": "execute_result",
     "data": {
      "text/plain": "'class=[1]'"
     },
     "metadata": {},
     "execution_count": 4
    }
   ],
   "source": [
    "# full pipeline\n",
    "\n",
    "song = '../analysis/data/songs/Akagami no Shirayuki-hime.wav'\n",
    "gmm = init_gmm(fit_gmm(convert_to_mfcc(song, frames=3000)))\n",
    "sims = list(map(lambda x: gmm_js(x, gmm), gmm_samples))\n",
    "sims = kernel_func(sims).reshape(1, -1)\n",
    "\n",
    "f'class={svc.predict(sims)}'"
   ],
   "metadata": {
    "collapsed": false,
    "pycharm": {
     "name": "#%%\n",
     "is_executing": false
    }
   }
  }
 ],
 "metadata": {
  "kernelspec": {
   "display_name": "Python 3.8.3 64-bit ('venv': venv)",
   "language": "python",
   "name": "python_defaultSpec_1595684544944"
  },
  "language_info": {
   "codemirror_mode": {
    "name": "ipython",
    "version": 2
   },
   "file_extension": ".py",
   "mimetype": "text/x-python",
   "name": "python",
   "nbconvert_exporter": "python",
   "pygments_lexer": "ipython2",
   "version": "3.8.3-final"
  },
  "pycharm": {
   "stem_cell": {
    "cell_type": "raw",
    "source": [],
    "metadata": {
     "collapsed": false
    }
   }
  }
 },
 "nbformat": 4,
 "nbformat_minor": 0
}